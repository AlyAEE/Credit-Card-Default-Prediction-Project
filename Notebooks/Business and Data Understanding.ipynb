{
 "cells": [
  {
   "cell_type": "markdown",
   "id": "4fd24ea0-0fde-4f04-80f2-83cd78cb06f2",
   "metadata": {},
   "source": [
    "# Business Understanding"
   ]
  },
  {
   "cell_type": "markdown",
   "id": "451012cc-534e-4455-82f8-021ec377c0fe",
   "metadata": {},
   "source": [
    "## Business Overiview\n",
    "- Credit card companies operate in a highly competitive and regulated financial industry where managing credit risk is critical to profitability and stability. The ability to accurately predict credit card defaults is essential for:\n",
    "\n",
    "    - Risk Management: Ensuring that the company extends credit to reliable customers and mitigates potential losses from defaults.\n",
    "    - Relationship Management: Balancing risk management with customer satisfaction by offering suitable credit products without unnecessary restrictions.\n",
    " \n",
    "- The project is for a credit card company. The company offers a variety of credit products including personal, business, and co-branded credit cards. The company aims to grow its market share while maintaining a healthy portfolio of credit accounts."
   ]
  },
  {
   "cell_type": "markdown",
   "id": "81a4fb1c-09c8-41ce-a4b0-adb6b78609fe",
   "metadata": {},
   "source": [
    "## Business Objective\n",
    "\n",
    "- **Minimize Defaults:**\n",
    "\n",
    "    - Reduce the number of credit card defaults to improve the overall financial health of the company.\n",
    "    - Enhance the accuracy of credit risk assessments to better predict which customers are likely to default.\n",
    "\n",
    "- **Optimize Credit Limits:**\n",
    "\n",
    "    - Ensure customers are provided with appropriate credit limits based on their risk profiles.\n",
    "    - Adjust credit limits dynamically based on customer behavior and economic conditions.\n",
    "\n",
    "- **Customer Acquisition and Retention:**\n",
    "\n",
    "    - Attract new customers with attractive credit offerings while maintaining a low risk of default.\n",
    "    - Retain existing customers by offering personalized credit products and limits that suit their financial behavior.\n"
   ]
  },
  {
   "cell_type": "markdown",
   "id": "61a76321-6e7f-4ac5-8a3d-476f288f3f42",
   "metadata": {},
   "source": [
    "## Frame The Propblem\n",
    "- Predict whether a customer will default on their credit card payment in the next month based on their historical payment behavior and other relevant features.\n",
    "- - **Given we have a labeled Dataset and the labels consists of multiple classes that can output multiple binary tags `DevType`.**\r\n",
    "- **We are dealing with a `Supervised MultiLabel Classification` Task.**\r\n",
    "- **Also there is no continous flow of data coming into the system, So we are going to use `Batch learning`.**\n",
    "\n"
   ]
  },
  {
   "cell_type": "markdown",
   "id": "bfc0ad5f-b03e-40aa-88f9-33a3dfaf7a37",
   "metadata": {},
   "source": [
    "Key Questions:\n",
    "\n",
    "What are the key predictors of default?\n",
    "How accurate can our prediction model be?\n",
    "How can we integrate this model into existing risk management systems?"
   ]
  },
  {
   "cell_type": "markdown",
   "id": "ac172909-a51c-4bff-b691-c687107f7f4e",
   "metadata": {},
   "source": [
    "## About Dataset\n",
    "- **This dataset contains information on default payments, demographic factors, credit data, history of payment, and bill statements of credit card clients in Taiwan from April 2005 to September 2005.**"
   ]
  },
  {
   "cell_type": "markdown",
   "id": "052319e7-19bb-411d-bd54-9d512a9d73c9",
   "metadata": {},
   "source": [
    "## Data Understanding"
   ]
  },
  {
   "cell_type": "markdown",
   "id": "a7b15389-e86e-4cbc-b3d0-6585745305b0",
   "metadata": {},
   "source": [
    "- **The Dataset contains 25 features:**\n",
    "    - ID: ID of each client\n",
    "    - LIMIT_BAL: Amount of given credit in NT dollars (includes individual and family/supplementary credit\n",
    "    - SEX: Gender (1=male, 2=female)\n",
    "    - EDUCATION: (1=graduate school, 2=university, 3=high school, 4=others, 5=unknown, 6=unknown)\n",
    "    - MARRIAGE: Marital status (1=married, 2=single, 3=others)\n",
    "    - AGE: Age in years\n",
    "    - PAY_0: Repayment status in September, 2005 (-1=pay duly, 1=payment delay for one month, 2=payment delay for two months, ... 8=payment delay for     - eight months, 9=payment delay for nine months and above)\n",
    "    - PAY_2: Repayment status in August, 2005 (scale same as above)\n",
    "    - PAY_3: Repayment status in July, 2005 (scale same as above)\n",
    "    - PAY_4: Repayment status in June, 2005 (scale same as above)\n",
    "    - PAY_5: Repayment status in May, 2005 (scale same as above)\n",
    "    - PAY_6: Repayment status in April, 2005 (scale same as above)\n",
    "    - BILL_AMT1: Amount of bill statement in September, 2005 (NT dollar)\n",
    "    - BILL_AMT2: Amount of bill statement in August, 2005 (NT dollar)\n",
    "    - BILL_AMT3: Amount of bill statement in July, 2005 (NT dollar)\n",
    "    - BILL_AMT4: Amount of bill statement in June, 2005 (NT dollar)\n",
    "    - BILL_AMT5: Amount of bill statement in May, 2005 (NT dollar)\n",
    "    - BILL_AMT6: Amount of bill statement in April, 2005 (NT dollar)\n",
    "    - PAY_AMT1: Amount of previous payment in September, 2005 (NT dollar)\n",
    "    - PAY_AMT2: Amount of previous payment in August, 2005 (NT dollar)\n",
    "    - PAY_AMT3: Amount of previous payment in July, 2005 (NT dollar)\n",
    "    - PAY_AMT4: Amount of previous payment in June, 2005 (NT dollar)\n",
    "    - PAY_AMT5: Amount of previous payment in May, 2005 (NT dollar)\n",
    "    - PAY_AMT6: Amount of previous payment in April, 2005 (NT dollar)\n",
    "    - default.payment.next.month: Default payment (1=yes, 0=no)"
   ]
  },
  {
   "cell_type": "markdown",
   "id": "9a67866e-c81c-4818-8ac5-4874e80b7361",
   "metadata": {},
   "source": []
  },
  {
   "cell_type": "code",
   "execution_count": null,
   "id": "6a7b826f-ebce-4e09-bf2e-943ad92bc02e",
   "metadata": {},
   "outputs": [],
   "source": []
  }
 ],
 "metadata": {
  "kernelspec": {
   "display_name": "Python 3 (ipykernel)",
   "language": "python",
   "name": "python3"
  },
  "language_info": {
   "codemirror_mode": {
    "name": "ipython",
    "version": 3
   },
   "file_extension": ".py",
   "mimetype": "text/x-python",
   "name": "python",
   "nbconvert_exporter": "python",
   "pygments_lexer": "ipython3",
   "version": "3.11.4"
  }
 },
 "nbformat": 4,
 "nbformat_minor": 5
}
